{
 "cells": [
  {
   "cell_type": "markdown",
   "metadata": {},
   "source": [
    "# Natalie Johnson Final Project: Mushroom dataset\n",
    "## Part 2: Brief\n",
    "### Preform EDA on the dataset"
   ]
  },
  {
   "cell_type": "markdown",
   "metadata": {},
   "source": [
    "#### Import necessary pacakges"
   ]
  },
  {
   "cell_type": "code",
   "execution_count": 1,
   "metadata": {},
   "outputs": [],
   "source": [
    "import pandas as pd\n",
    "import numpy as np\n",
    "import seaborn as sns\n",
    "import matplotlib.pyplot as plt\n",
    "\n",
    "from sklearn.preprocessing import LabelEncoder, OrdinalEncoder, OneHotEncoder\n",
    "from sklearn.model_selection import train_test_split, GridSearchCV\n",
    "from sklearn.linear_model import LogisticRegression\n",
    "from sklearn.metrics import accuracy_score, plot_confusion_matrix, recall_score, precision_score, f1_score\n",
    "from sklearn.tree import DecisionTreeClassifier\n",
    "from sklearn.ensemble import RandomForestClassifier\n",
    "\n",
    "random_state = 1892"
   ]
  },
  {
   "cell_type": "markdown",
   "metadata": {},
   "source": [
    "#### Read in the data and set the columns."
   ]
  },
  {
   "cell_type": "code",
   "execution_count": 2,
   "metadata": {},
   "outputs": [],
   "source": [
    "file = './data/agaricus-lepiota.data'\n",
    "df = pd.read_csv(file, header=None)\n",
    "df.columns = ['class', 'cap_shape', 'cap_surface','cap_color',\n",
    "                'bruises', 'odor', 'gill_attachment', 'gill_spacing', \n",
    "                'gill_size', 'gill_color', 'stalk_shape', 'stalk_root', \n",
    "                'stalk_surface_above_ring','stalk_surface_below_ring', \n",
    "                'stalk_color_above_ring', 'stalk_color_below_ring', \n",
    "                'veil_type', 'veil_color', 'ring_number','ring_type', \n",
    "                'spore_print_color', 'population', 'habitat']"
   ]
  },
  {
   "cell_type": "code",
   "execution_count": 3,
   "metadata": {},
   "outputs": [
    {
     "data": {
      "text/html": [
       "<div>\n",
       "<style scoped>\n",
       "    .dataframe tbody tr th:only-of-type {\n",
       "        vertical-align: middle;\n",
       "    }\n",
       "\n",
       "    .dataframe tbody tr th {\n",
       "        vertical-align: top;\n",
       "    }\n",
       "\n",
       "    .dataframe thead th {\n",
       "        text-align: right;\n",
       "    }\n",
       "</style>\n",
       "<table border=\"1\" class=\"dataframe\">\n",
       "  <thead>\n",
       "    <tr style=\"text-align: right;\">\n",
       "      <th></th>\n",
       "      <th>class</th>\n",
       "      <th>cap_shape</th>\n",
       "      <th>cap_surface</th>\n",
       "      <th>cap_color</th>\n",
       "      <th>bruises</th>\n",
       "      <th>odor</th>\n",
       "      <th>gill_attachment</th>\n",
       "      <th>gill_spacing</th>\n",
       "      <th>gill_size</th>\n",
       "      <th>gill_color</th>\n",
       "      <th>...</th>\n",
       "      <th>stalk_surface_below_ring</th>\n",
       "      <th>stalk_color_above_ring</th>\n",
       "      <th>stalk_color_below_ring</th>\n",
       "      <th>veil_type</th>\n",
       "      <th>veil_color</th>\n",
       "      <th>ring_number</th>\n",
       "      <th>ring_type</th>\n",
       "      <th>spore_print_color</th>\n",
       "      <th>population</th>\n",
       "      <th>habitat</th>\n",
       "    </tr>\n",
       "  </thead>\n",
       "  <tbody>\n",
       "    <tr>\n",
       "      <th>0</th>\n",
       "      <td>p</td>\n",
       "      <td>x</td>\n",
       "      <td>s</td>\n",
       "      <td>n</td>\n",
       "      <td>t</td>\n",
       "      <td>p</td>\n",
       "      <td>f</td>\n",
       "      <td>c</td>\n",
       "      <td>n</td>\n",
       "      <td>k</td>\n",
       "      <td>...</td>\n",
       "      <td>s</td>\n",
       "      <td>w</td>\n",
       "      <td>w</td>\n",
       "      <td>p</td>\n",
       "      <td>w</td>\n",
       "      <td>o</td>\n",
       "      <td>p</td>\n",
       "      <td>k</td>\n",
       "      <td>s</td>\n",
       "      <td>u</td>\n",
       "    </tr>\n",
       "    <tr>\n",
       "      <th>1</th>\n",
       "      <td>e</td>\n",
       "      <td>x</td>\n",
       "      <td>s</td>\n",
       "      <td>y</td>\n",
       "      <td>t</td>\n",
       "      <td>a</td>\n",
       "      <td>f</td>\n",
       "      <td>c</td>\n",
       "      <td>b</td>\n",
       "      <td>k</td>\n",
       "      <td>...</td>\n",
       "      <td>s</td>\n",
       "      <td>w</td>\n",
       "      <td>w</td>\n",
       "      <td>p</td>\n",
       "      <td>w</td>\n",
       "      <td>o</td>\n",
       "      <td>p</td>\n",
       "      <td>n</td>\n",
       "      <td>n</td>\n",
       "      <td>g</td>\n",
       "    </tr>\n",
       "    <tr>\n",
       "      <th>2</th>\n",
       "      <td>e</td>\n",
       "      <td>b</td>\n",
       "      <td>s</td>\n",
       "      <td>w</td>\n",
       "      <td>t</td>\n",
       "      <td>l</td>\n",
       "      <td>f</td>\n",
       "      <td>c</td>\n",
       "      <td>b</td>\n",
       "      <td>n</td>\n",
       "      <td>...</td>\n",
       "      <td>s</td>\n",
       "      <td>w</td>\n",
       "      <td>w</td>\n",
       "      <td>p</td>\n",
       "      <td>w</td>\n",
       "      <td>o</td>\n",
       "      <td>p</td>\n",
       "      <td>n</td>\n",
       "      <td>n</td>\n",
       "      <td>m</td>\n",
       "    </tr>\n",
       "    <tr>\n",
       "      <th>3</th>\n",
       "      <td>p</td>\n",
       "      <td>x</td>\n",
       "      <td>y</td>\n",
       "      <td>w</td>\n",
       "      <td>t</td>\n",
       "      <td>p</td>\n",
       "      <td>f</td>\n",
       "      <td>c</td>\n",
       "      <td>n</td>\n",
       "      <td>n</td>\n",
       "      <td>...</td>\n",
       "      <td>s</td>\n",
       "      <td>w</td>\n",
       "      <td>w</td>\n",
       "      <td>p</td>\n",
       "      <td>w</td>\n",
       "      <td>o</td>\n",
       "      <td>p</td>\n",
       "      <td>k</td>\n",
       "      <td>s</td>\n",
       "      <td>u</td>\n",
       "    </tr>\n",
       "    <tr>\n",
       "      <th>4</th>\n",
       "      <td>e</td>\n",
       "      <td>x</td>\n",
       "      <td>s</td>\n",
       "      <td>g</td>\n",
       "      <td>f</td>\n",
       "      <td>n</td>\n",
       "      <td>f</td>\n",
       "      <td>w</td>\n",
       "      <td>b</td>\n",
       "      <td>k</td>\n",
       "      <td>...</td>\n",
       "      <td>s</td>\n",
       "      <td>w</td>\n",
       "      <td>w</td>\n",
       "      <td>p</td>\n",
       "      <td>w</td>\n",
       "      <td>o</td>\n",
       "      <td>e</td>\n",
       "      <td>n</td>\n",
       "      <td>a</td>\n",
       "      <td>g</td>\n",
       "    </tr>\n",
       "  </tbody>\n",
       "</table>\n",
       "<p>5 rows × 23 columns</p>\n",
       "</div>"
      ],
      "text/plain": [
       "  class cap_shape cap_surface cap_color bruises odor gill_attachment  \\\n",
       "0     p         x           s         n       t    p               f   \n",
       "1     e         x           s         y       t    a               f   \n",
       "2     e         b           s         w       t    l               f   \n",
       "3     p         x           y         w       t    p               f   \n",
       "4     e         x           s         g       f    n               f   \n",
       "\n",
       "  gill_spacing gill_size gill_color  ... stalk_surface_below_ring  \\\n",
       "0            c         n          k  ...                        s   \n",
       "1            c         b          k  ...                        s   \n",
       "2            c         b          n  ...                        s   \n",
       "3            c         n          n  ...                        s   \n",
       "4            w         b          k  ...                        s   \n",
       "\n",
       "  stalk_color_above_ring stalk_color_below_ring veil_type veil_color  \\\n",
       "0                      w                      w         p          w   \n",
       "1                      w                      w         p          w   \n",
       "2                      w                      w         p          w   \n",
       "3                      w                      w         p          w   \n",
       "4                      w                      w         p          w   \n",
       "\n",
       "  ring_number ring_type spore_print_color population habitat  \n",
       "0           o         p                 k          s       u  \n",
       "1           o         p                 n          n       g  \n",
       "2           o         p                 n          n       m  \n",
       "3           o         p                 k          s       u  \n",
       "4           o         e                 n          a       g  \n",
       "\n",
       "[5 rows x 23 columns]"
      ]
     },
     "execution_count": 3,
     "metadata": {},
     "output_type": "execute_result"
    }
   ],
   "source": [
    "df.head()"
   ]
  },
  {
   "cell_type": "code",
   "execution_count": 4,
   "metadata": {},
   "outputs": [
    {
     "data": {
      "text/plain": [
       "(8124, 23)"
      ]
     },
     "execution_count": 4,
     "metadata": {},
     "output_type": "execute_result"
    }
   ],
   "source": [
    "df.shape"
   ]
  },
  {
   "cell_type": "code",
   "execution_count": 5,
   "metadata": {},
   "outputs": [
    {
     "name": "stdout",
     "output_type": "stream",
     "text": [
      "Column: class ['p' 'e'] \n",
      "\tTotal Unique: 2\n",
      "Column: cap_shape ['x' 'b' 's' 'f' 'k' 'c'] \n",
      "\tTotal Unique: 6\n",
      "Column: cap_surface ['s' 'y' 'f' 'g'] \n",
      "\tTotal Unique: 4\n",
      "Column: cap_color ['n' 'y' 'w' 'g' 'e' 'p' 'b' 'u' 'c' 'r'] \n",
      "\tTotal Unique: 10\n",
      "Column: bruises ['t' 'f'] \n",
      "\tTotal Unique: 2\n",
      "Column: odor ['p' 'a' 'l' 'n' 'f' 'c' 'y' 's' 'm'] \n",
      "\tTotal Unique: 9\n",
      "Column: gill_attachment ['f' 'a'] \n",
      "\tTotal Unique: 2\n",
      "Column: gill_spacing ['c' 'w'] \n",
      "\tTotal Unique: 2\n",
      "Column: gill_size ['n' 'b'] \n",
      "\tTotal Unique: 2\n",
      "Column: gill_color ['k' 'n' 'g' 'p' 'w' 'h' 'u' 'e' 'b' 'r' 'y' 'o'] \n",
      "\tTotal Unique: 12\n",
      "Column: stalk_shape ['e' 't'] \n",
      "\tTotal Unique: 2\n",
      "Column: stalk_root ['e' 'c' 'b' 'r' '?'] \n",
      "\tTotal Unique: 5\n",
      "Column: stalk_surface_above_ring ['s' 'f' 'k' 'y'] \n",
      "\tTotal Unique: 4\n",
      "Column: stalk_surface_below_ring ['s' 'f' 'y' 'k'] \n",
      "\tTotal Unique: 4\n",
      "Column: stalk_color_above_ring ['w' 'g' 'p' 'n' 'b' 'e' 'o' 'c' 'y'] \n",
      "\tTotal Unique: 9\n",
      "Column: stalk_color_below_ring ['w' 'p' 'g' 'b' 'n' 'e' 'y' 'o' 'c'] \n",
      "\tTotal Unique: 9\n",
      "Column: veil_type ['p'] \n",
      "\tTotal Unique: 1\n",
      "Column: veil_color ['w' 'n' 'o' 'y'] \n",
      "\tTotal Unique: 4\n",
      "Column: ring_number ['o' 't' 'n'] \n",
      "\tTotal Unique: 3\n",
      "Column: ring_type ['p' 'e' 'l' 'f' 'n'] \n",
      "\tTotal Unique: 5\n",
      "Column: spore_print_color ['k' 'n' 'u' 'h' 'w' 'r' 'o' 'y' 'b'] \n",
      "\tTotal Unique: 9\n",
      "Column: population ['s' 'n' 'a' 'v' 'y' 'c'] \n",
      "\tTotal Unique: 6\n",
      "Column: habitat ['u' 'g' 'm' 'd' 'p' 'w' 'l'] \n",
      "\tTotal Unique: 7\n"
     ]
    }
   ],
   "source": [
    "# Look at the number of values in each feature column\n",
    "for col in df:\n",
    "    print('Column:', col, df[col].unique(), '\\n\\tTotal Unique:', len(df[col].unique()))"
   ]
  },
  {
   "cell_type": "code",
   "execution_count": 6,
   "metadata": {},
   "outputs": [
    {
     "data": {
      "image/png": "[encoded data removed]",
      "text/plain": [
       "<Figure size 432x288 with 1 Axes>"
      ]
     },
     "metadata": {
      "needs_background": "light"
     },
     "output_type": "display_data"
    }
   ],
   "source": [
    "# Look at distribuution of target variable:\n",
    "plt.bar(df['class'].value_counts().index, df['class'].value_counts());\n",
    "plt.xlabel('Class')\n",
    "plt.ylabel('Count')\n",
    "plt.title('Distribution of Class Variable');"
   ]
  },
  {
   "cell_type": "code",
   "execution_count": 7,
   "metadata": {},
   "outputs": [
    {
     "data": {
      "image/png": "[encoded data removed]",
      "text/plain": [
       "<Figure size 864x2160 with 22 Axes>"
      ]
     },
     "metadata": {
      "needs_background": "light"
     },
     "output_type": "display_data"
    }
   ],
   "source": [
    "# Visual distribution of unique values per feature\n",
    "\n",
    "fix, ax = plt.subplots(11,2, figsize=(12,30))\n",
    "i,j = 0,0\n",
    "for k, col in enumerate(df.columns[1:]):\n",
    "    ax[i][j].bar(df[col].value_counts().index, df[col].value_counts())\n",
    "    ax[i][j].set_title(col)   \n",
    "    i = i+1 if k % 2 != 0 else i\n",
    "    j = 1 if j == 0 else 0\n",
    "\n",
    "plt.tight_layout()"
   ]
  },
  {
   "cell_type": "code",
   "execution_count": 8,
   "metadata": {},
   "outputs": [],
   "source": [
    "# Remove 'veil_type' column because there is only one answer. It is unhelpful.\n",
    "df.drop('veil_type', axis='columns', inplace=True)"
   ]
  },
  {
   "cell_type": "markdown",
   "metadata": {},
   "source": [
    "Re-display distribution of features\n",
    "```p\n",
    "fix, ax = plt.subplots(7,3, figsize=(12,30))\n",
    "i,j = 0,0\n",
    "for col in df.columns[1:]:\n",
    "    ax[i][j].bar(df[col].value_counts().index, df[col].value_counts())\n",
    "    ax[i][j].set_title(col)   \n",
    "    i = i+1 if j == 2 else i\n",
    "    j = j+1 if j < 2 else 0\n",
    "\n",
    "plt.tight_layout()\n",
    "```"
   ]
  },
  {
   "cell_type": "markdown",
   "metadata": {},
   "source": [
    "## Part 3: Technical Notebook\n",
    "### Build and document a working model, prototype, recommendation, or solution."
   ]
  },
  {
   "cell_type": "markdown",
   "metadata": {},
   "source": [
    "### Encode dataframe"
   ]
  },
  {
   "cell_type": "code",
   "execution_count": 9,
   "metadata": {},
   "outputs": [],
   "source": [
    "# Label Encode the target variable (class). \n",
    "df_class_encoded= pd.DataFrame({'class': LabelEncoder().fit_transform(df.iloc[:, 0])})"
   ]
  },
  {
   "cell_type": "code",
   "execution_count": 10,
   "metadata": {},
   "outputs": [
    {
     "data": {
      "text/html": [
       "<div>\n",
       "<style scoped>\n",
       "    .dataframe tbody tr th:only-of-type {\n",
       "        vertical-align: middle;\n",
       "    }\n",
       "\n",
       "    .dataframe tbody tr th {\n",
       "        vertical-align: top;\n",
       "    }\n",
       "\n",
       "    .dataframe thead th {\n",
       "        text-align: right;\n",
       "    }\n",
       "</style>\n",
       "<table border=\"1\" class=\"dataframe\">\n",
       "  <thead>\n",
       "    <tr style=\"text-align: right;\">\n",
       "      <th></th>\n",
       "      <th>class</th>\n",
       "      <th>cap_shape</th>\n",
       "      <th>cap_surface</th>\n",
       "      <th>cap_color</th>\n",
       "      <th>bruises</th>\n",
       "      <th>odor</th>\n",
       "      <th>gill_attachment</th>\n",
       "      <th>gill_spacing</th>\n",
       "      <th>gill_size</th>\n",
       "      <th>gill_color</th>\n",
       "      <th>...</th>\n",
       "      <th>stalk_surface_above_ring</th>\n",
       "      <th>stalk_surface_below_ring</th>\n",
       "      <th>stalk_color_above_ring</th>\n",
       "      <th>stalk_color_below_ring</th>\n",
       "      <th>veil_color</th>\n",
       "      <th>ring_number</th>\n",
       "      <th>ring_type</th>\n",
       "      <th>spore_print_color</th>\n",
       "      <th>population</th>\n",
       "      <th>habitat</th>\n",
       "    </tr>\n",
       "  </thead>\n",
       "  <tbody>\n",
       "    <tr>\n",
       "      <th>0</th>\n",
       "      <td>1</td>\n",
       "      <td>5.0</td>\n",
       "      <td>2.0</td>\n",
       "      <td>4.0</td>\n",
       "      <td>1.0</td>\n",
       "      <td>6.0</td>\n",
       "      <td>1.0</td>\n",
       "      <td>0.0</td>\n",
       "      <td>1.0</td>\n",
       "      <td>4.0</td>\n",
       "      <td>...</td>\n",
       "      <td>2.0</td>\n",
       "      <td>2.0</td>\n",
       "      <td>7.0</td>\n",
       "      <td>7.0</td>\n",
       "      <td>2.0</td>\n",
       "      <td>1.0</td>\n",
       "      <td>4.0</td>\n",
       "      <td>2.0</td>\n",
       "      <td>3.0</td>\n",
       "      <td>5.0</td>\n",
       "    </tr>\n",
       "    <tr>\n",
       "      <th>1</th>\n",
       "      <td>0</td>\n",
       "      <td>5.0</td>\n",
       "      <td>2.0</td>\n",
       "      <td>9.0</td>\n",
       "      <td>1.0</td>\n",
       "      <td>0.0</td>\n",
       "      <td>1.0</td>\n",
       "      <td>0.0</td>\n",
       "      <td>0.0</td>\n",
       "      <td>4.0</td>\n",
       "      <td>...</td>\n",
       "      <td>2.0</td>\n",
       "      <td>2.0</td>\n",
       "      <td>7.0</td>\n",
       "      <td>7.0</td>\n",
       "      <td>2.0</td>\n",
       "      <td>1.0</td>\n",
       "      <td>4.0</td>\n",
       "      <td>3.0</td>\n",
       "      <td>2.0</td>\n",
       "      <td>1.0</td>\n",
       "    </tr>\n",
       "    <tr>\n",
       "      <th>2</th>\n",
       "      <td>0</td>\n",
       "      <td>0.0</td>\n",
       "      <td>2.0</td>\n",
       "      <td>8.0</td>\n",
       "      <td>1.0</td>\n",
       "      <td>3.0</td>\n",
       "      <td>1.0</td>\n",
       "      <td>0.0</td>\n",
       "      <td>0.0</td>\n",
       "      <td>5.0</td>\n",
       "      <td>...</td>\n",
       "      <td>2.0</td>\n",
       "      <td>2.0</td>\n",
       "      <td>7.0</td>\n",
       "      <td>7.0</td>\n",
       "      <td>2.0</td>\n",
       "      <td>1.0</td>\n",
       "      <td>4.0</td>\n",
       "      <td>3.0</td>\n",
       "      <td>2.0</td>\n",
       "      <td>3.0</td>\n",
       "    </tr>\n",
       "    <tr>\n",
       "      <th>3</th>\n",
       "      <td>1</td>\n",
       "      <td>5.0</td>\n",
       "      <td>3.0</td>\n",
       "      <td>8.0</td>\n",
       "      <td>1.0</td>\n",
       "      <td>6.0</td>\n",
       "      <td>1.0</td>\n",
       "      <td>0.0</td>\n",
       "      <td>1.0</td>\n",
       "      <td>5.0</td>\n",
       "      <td>...</td>\n",
       "      <td>2.0</td>\n",
       "      <td>2.0</td>\n",
       "      <td>7.0</td>\n",
       "      <td>7.0</td>\n",
       "      <td>2.0</td>\n",
       "      <td>1.0</td>\n",
       "      <td>4.0</td>\n",
       "      <td>2.0</td>\n",
       "      <td>3.0</td>\n",
       "      <td>5.0</td>\n",
       "    </tr>\n",
       "    <tr>\n",
       "      <th>4</th>\n",
       "      <td>0</td>\n",
       "      <td>5.0</td>\n",
       "      <td>2.0</td>\n",
       "      <td>3.0</td>\n",
       "      <td>0.0</td>\n",
       "      <td>5.0</td>\n",
       "      <td>1.0</td>\n",
       "      <td>1.0</td>\n",
       "      <td>0.0</td>\n",
       "      <td>4.0</td>\n",
       "      <td>...</td>\n",
       "      <td>2.0</td>\n",
       "      <td>2.0</td>\n",
       "      <td>7.0</td>\n",
       "      <td>7.0</td>\n",
       "      <td>2.0</td>\n",
       "      <td>1.0</td>\n",
       "      <td>0.0</td>\n",
       "      <td>3.0</td>\n",
       "      <td>0.0</td>\n",
       "      <td>1.0</td>\n",
       "    </tr>\n",
       "  </tbody>\n",
       "</table>\n",
       "<p>5 rows × 22 columns</p>\n",
       "</div>"
      ],
      "text/plain": [
       "   class  cap_shape  cap_surface  cap_color  bruises  odor  gill_attachment  \\\n",
       "0      1        5.0          2.0        4.0      1.0   6.0              1.0   \n",
       "1      0        5.0          2.0        9.0      1.0   0.0              1.0   \n",
       "2      0        0.0          2.0        8.0      1.0   3.0              1.0   \n",
       "3      1        5.0          3.0        8.0      1.0   6.0              1.0   \n",
       "4      0        5.0          2.0        3.0      0.0   5.0              1.0   \n",
       "\n",
       "   gill_spacing  gill_size  gill_color  ...  stalk_surface_above_ring  \\\n",
       "0           0.0        1.0         4.0  ...                       2.0   \n",
       "1           0.0        0.0         4.0  ...                       2.0   \n",
       "2           0.0        0.0         5.0  ...                       2.0   \n",
       "3           0.0        1.0         5.0  ...                       2.0   \n",
       "4           1.0        0.0         4.0  ...                       2.0   \n",
       "\n",
       "   stalk_surface_below_ring  stalk_color_above_ring  stalk_color_below_ring  \\\n",
       "0                       2.0                     7.0                     7.0   \n",
       "1                       2.0                     7.0                     7.0   \n",
       "2                       2.0                     7.0                     7.0   \n",
       "3                       2.0                     7.0                     7.0   \n",
       "4                       2.0                     7.0                     7.0   \n",
       "\n",
       "   veil_color  ring_number  ring_type  spore_print_color  population  habitat  \n",
       "0         2.0          1.0        4.0                2.0         3.0      5.0  \n",
       "1         2.0          1.0        4.0                3.0         2.0      1.0  \n",
       "2         2.0          1.0        4.0                3.0         2.0      3.0  \n",
       "3         2.0          1.0        4.0                2.0         3.0      5.0  \n",
       "4         2.0          1.0        0.0                3.0         0.0      1.0  \n",
       "\n",
       "[5 rows x 22 columns]"
      ]
     },
     "execution_count": 10,
     "metadata": {},
     "output_type": "execute_result"
    }
   ],
   "source": [
    "# Use Ordinal encoding on the features.\n",
    "df_encoded = pd.DataFrame(OrdinalEncoder().fit_transform(df.iloc[:, 1:]))\n",
    "df_encoded.columns = df.columns[1:]\n",
    "df_encoded = pd.concat([df_class_encoded, df_encoded], axis=1)\n",
    "df_encoded.head()"
   ]
  },
  {
   "cell_type": "code",
   "execution_count": 11,
   "metadata": {},
   "outputs": [
    {
     "data": {
      "text/html": [
       "<div>\n",
       "<style scoped>\n",
       "    .dataframe tbody tr th:only-of-type {\n",
       "        vertical-align: middle;\n",
       "    }\n",
       "\n",
       "    .dataframe tbody tr th {\n",
       "        vertical-align: top;\n",
       "    }\n",
       "\n",
       "    .dataframe thead th {\n",
       "        text-align: right;\n",
       "    }\n",
       "</style>\n",
       "<table border=\"1\" class=\"dataframe\">\n",
       "  <thead>\n",
       "    <tr style=\"text-align: right;\">\n",
       "      <th></th>\n",
       "      <th>class</th>\n",
       "      <th>cap_shape_b</th>\n",
       "      <th>cap_shape_c</th>\n",
       "      <th>cap_shape_f</th>\n",
       "      <th>cap_shape_k</th>\n",
       "      <th>cap_shape_s</th>\n",
       "      <th>cap_shape_x</th>\n",
       "      <th>cap_surface_f</th>\n",
       "      <th>cap_surface_g</th>\n",
       "      <th>cap_surface_s</th>\n",
       "      <th>...</th>\n",
       "      <th>population_s</th>\n",
       "      <th>population_v</th>\n",
       "      <th>population_y</th>\n",
       "      <th>habitat_d</th>\n",
       "      <th>habitat_g</th>\n",
       "      <th>habitat_l</th>\n",
       "      <th>habitat_m</th>\n",
       "      <th>habitat_p</th>\n",
       "      <th>habitat_u</th>\n",
       "      <th>habitat_w</th>\n",
       "    </tr>\n",
       "  </thead>\n",
       "  <tbody>\n",
       "    <tr>\n",
       "      <th>0</th>\n",
       "      <td>1</td>\n",
       "      <td>0</td>\n",
       "      <td>0</td>\n",
       "      <td>0</td>\n",
       "      <td>0</td>\n",
       "      <td>0</td>\n",
       "      <td>1</td>\n",
       "      <td>0</td>\n",
       "      <td>0</td>\n",
       "      <td>1</td>\n",
       "      <td>...</td>\n",
       "      <td>1</td>\n",
       "      <td>0</td>\n",
       "      <td>0</td>\n",
       "      <td>0</td>\n",
       "      <td>0</td>\n",
       "      <td>0</td>\n",
       "      <td>0</td>\n",
       "      <td>0</td>\n",
       "      <td>1</td>\n",
       "      <td>0</td>\n",
       "    </tr>\n",
       "    <tr>\n",
       "      <th>1</th>\n",
       "      <td>0</td>\n",
       "      <td>0</td>\n",
       "      <td>0</td>\n",
       "      <td>0</td>\n",
       "      <td>0</td>\n",
       "      <td>0</td>\n",
       "      <td>1</td>\n",
       "      <td>0</td>\n",
       "      <td>0</td>\n",
       "      <td>1</td>\n",
       "      <td>...</td>\n",
       "      <td>0</td>\n",
       "      <td>0</td>\n",
       "      <td>0</td>\n",
       "      <td>0</td>\n",
       "      <td>1</td>\n",
       "      <td>0</td>\n",
       "      <td>0</td>\n",
       "      <td>0</td>\n",
       "      <td>0</td>\n",
       "      <td>0</td>\n",
       "    </tr>\n",
       "    <tr>\n",
       "      <th>2</th>\n",
       "      <td>0</td>\n",
       "      <td>1</td>\n",
       "      <td>0</td>\n",
       "      <td>0</td>\n",
       "      <td>0</td>\n",
       "      <td>0</td>\n",
       "      <td>0</td>\n",
       "      <td>0</td>\n",
       "      <td>0</td>\n",
       "      <td>1</td>\n",
       "      <td>...</td>\n",
       "      <td>0</td>\n",
       "      <td>0</td>\n",
       "      <td>0</td>\n",
       "      <td>0</td>\n",
       "      <td>0</td>\n",
       "      <td>0</td>\n",
       "      <td>1</td>\n",
       "      <td>0</td>\n",
       "      <td>0</td>\n",
       "      <td>0</td>\n",
       "    </tr>\n",
       "    <tr>\n",
       "      <th>3</th>\n",
       "      <td>1</td>\n",
       "      <td>0</td>\n",
       "      <td>0</td>\n",
       "      <td>0</td>\n",
       "      <td>0</td>\n",
       "      <td>0</td>\n",
       "      <td>1</td>\n",
       "      <td>0</td>\n",
       "      <td>0</td>\n",
       "      <td>0</td>\n",
       "      <td>...</td>\n",
       "      <td>1</td>\n",
       "      <td>0</td>\n",
       "      <td>0</td>\n",
       "      <td>0</td>\n",
       "      <td>0</td>\n",
       "      <td>0</td>\n",
       "      <td>0</td>\n",
       "      <td>0</td>\n",
       "      <td>1</td>\n",
       "      <td>0</td>\n",
       "    </tr>\n",
       "    <tr>\n",
       "      <th>4</th>\n",
       "      <td>0</td>\n",
       "      <td>0</td>\n",
       "      <td>0</td>\n",
       "      <td>0</td>\n",
       "      <td>0</td>\n",
       "      <td>0</td>\n",
       "      <td>1</td>\n",
       "      <td>0</td>\n",
       "      <td>0</td>\n",
       "      <td>1</td>\n",
       "      <td>...</td>\n",
       "      <td>0</td>\n",
       "      <td>0</td>\n",
       "      <td>0</td>\n",
       "      <td>0</td>\n",
       "      <td>1</td>\n",
       "      <td>0</td>\n",
       "      <td>0</td>\n",
       "      <td>0</td>\n",
       "      <td>0</td>\n",
       "      <td>0</td>\n",
       "    </tr>\n",
       "  </tbody>\n",
       "</table>\n",
       "<p>5 rows × 117 columns</p>\n",
       "</div>"
      ],
      "text/plain": [
       "   class  cap_shape_b  cap_shape_c  cap_shape_f  cap_shape_k  cap_shape_s  \\\n",
       "0      1            0            0            0            0            0   \n",
       "1      0            0            0            0            0            0   \n",
       "2      0            1            0            0            0            0   \n",
       "3      1            0            0            0            0            0   \n",
       "4      0            0            0            0            0            0   \n",
       "\n",
       "   cap_shape_x  cap_surface_f  cap_surface_g  cap_surface_s  ...  \\\n",
       "0            1              0              0              1  ...   \n",
       "1            1              0              0              1  ...   \n",
       "2            0              0              0              1  ...   \n",
       "3            1              0              0              0  ...   \n",
       "4            1              0              0              1  ...   \n",
       "\n",
       "   population_s  population_v  population_y  habitat_d  habitat_g  habitat_l  \\\n",
       "0             1             0             0          0          0          0   \n",
       "1             0             0             0          0          1          0   \n",
       "2             0             0             0          0          0          0   \n",
       "3             1             0             0          0          0          0   \n",
       "4             0             0             0          0          1          0   \n",
       "\n",
       "   habitat_m  habitat_p  habitat_u  habitat_w  \n",
       "0          0          0          1          0  \n",
       "1          0          0          0          0  \n",
       "2          1          0          0          0  \n",
       "3          0          0          1          0  \n",
       "4          0          0          0          0  \n",
       "\n",
       "[5 rows x 117 columns]"
      ]
     },
     "execution_count": 11,
     "metadata": {},
     "output_type": "execute_result"
    }
   ],
   "source": [
    "# Dummy Encoding\n",
    "df_dummies = pd.get_dummies(df.iloc[:,1:])\n",
    "\n",
    "# Join 'class' label encoded column with the features from the dummies df.\n",
    "df_onehot_encoded = pd.concat([df_class_encoded, df_dummies], axis=1)\n",
    "df_onehot_encoded.head()"
   ]
  },
  {
   "cell_type": "code",
   "execution_count": 12,
   "metadata": {},
   "outputs": [
    {
     "data": {
      "text/plain": [
       "bruises_f                     0.501530\n",
       "bruises_t                    -0.501530\n",
       "odor_f                        0.623842\n",
       "odor_n                       -0.785557\n",
       "gill_size_b                  -0.540024\n",
       "gill_size_n                   0.540024\n",
       "gill_color_b                  0.538808\n",
       "stalk_surface_above_ring_k    0.587658\n",
       "stalk_surface_above_ring_s   -0.491314\n",
       "stalk_surface_below_ring_k    0.573524\n",
       "ring_type_l                   0.451619\n",
       "ring_type_p                  -0.540469\n",
       "spore_print_color_h           0.490229\n",
       "Name: class, dtype: float64"
      ]
     },
     "execution_count": 12,
     "metadata": {},
     "output_type": "execute_result"
    }
   ],
   "source": [
    "# Determine the correlation between each feature and the class variable.\n",
    "df_corr = df_onehot_encoded.corr()\n",
    "df_corr_class = df_corr['class']\n",
    "\n",
    "# Find the features with a correlation over 0.45.\n",
    "top_corr = df_corr_class[abs(df_corr_class) >= 0.45]\n",
    "# Remove correlation with itself.\n",
    "top_corr.drop('class', axis=0, inplace=True) # top_corr = top_corr.iloc[1:] # Alternate way to remove first row.\n",
    "top_corr"
   ]
  },
  {
   "cell_type": "code",
   "execution_count": 13,
   "metadata": {},
   "outputs": [
    {
     "data": {
      "image/png": "[encoded data removed]",
      "text/plain": [
       "<Figure size 432x288 with 1 Axes>"
      ]
     },
     "metadata": {
      "needs_background": "light"
     },
     "output_type": "display_data"
    }
   ],
   "source": [
    "# Visualize the correlations between the features and the class variable.\n",
    "bar_colors = ['#99d594' if c < 0 else '#fc8d59' for c in top_corr]\n",
    "custom_legend = [plt.Line2D([0], [0], color='#99d594'), plt.Line2D([0], [0], color='#fc8d59')]\n",
    "\n",
    "plt.bar(x=top_corr.index, height=abs(top_corr), color=bar_colors)\n",
    "plt.xlabel('Feature')\n",
    "plt.xticks(rotation=90)\n",
    "plt.ylabel('Absolute Correlation')\n",
    "plt.legend(custom_legend, [\"Negative Correlation\", \"Positive Correlation\"])\n",
    "plt.title(\"High Correlations (> 0.45) to Class Variable\");"
   ]
  },
  {
   "cell_type": "markdown",
   "metadata": {},
   "source": [
    "## Now that the data has been encoded and explored, different models can be run."
   ]
  },
  {
   "cell_type": "markdown",
   "metadata": {},
   "source": [
    "### Use label/ordinal encoding and `Logistic Regression` on a training set to predict the class for the test set. "
   ]
  },
  {
   "cell_type": "code",
   "execution_count": 14,
   "metadata": {},
   "outputs": [
    {
     "name": "stdout",
     "output_type": "stream",
     "text": [
      "Test Error: 0.052502050861361775\n",
      "Accuracy Score: 0.9474979491386383\n"
     ]
    },
    {
     "name": "stderr",
     "output_type": "stream",
     "text": [
      "/home/natalie/anaconda3/lib/python3.8/site-packages/sklearn/linear_model/_logistic.py:762: ConvergenceWarning: lbfgs failed to converge (status=1):\n",
      "STOP: TOTAL NO. of ITERATIONS REACHED LIMIT.\n",
      "\n",
      "Increase the number of iterations (max_iter) or scale the data as shown in:\n",
      "    https://scikit-learn.org/stable/modules/preprocessing.html\n",
      "Please also refer to the documentation for alternative solver options:\n",
      "    https://scikit-learn.org/stable/modules/linear_model.html#logistic-regression\n",
      "  n_iter_i = _check_optimize_result(\n"
     ]
    }
   ],
   "source": [
    "# Define the features and class using 'X' and 'y'\n",
    "X_ordinal = df_encoded.iloc[:, 1:]\n",
    "y_ordinal = df_encoded['class']\n",
    "\n",
    "# Split the data\n",
    "X_ordinal_train, X_ordinal_test, y_ordinal_train, y_ordinal_test = train_test_split(X_ordinal, y_ordinal, random_state=random_state, test_size=.3)\n",
    "\n",
    "# Instantiate, fit and predict the model\n",
    "logreg_ordinal = LogisticRegression()\n",
    "logreg_ordinal.fit(X_ordinal_train, y_ordinal_train)\n",
    "y_ordinal_pred = logreg_ordinal.predict(X_ordinal_test)\n",
    "\n",
    "\n",
    "print(\"Test Error:\", sum(actual != pred for actual, pred in zip(y_ordinal_test, y_ordinal_pred)) / len(y_ordinal_test))\n",
    "print(\"Accuracy Score:\", accuracy_score(y_ordinal_test, y_ordinal_pred))"
   ]
  },
  {
   "cell_type": "code",
   "execution_count": 15,
   "metadata": {},
   "outputs": [
    {
     "name": "stdout",
     "output_type": "stream",
     "text": [
      "Confusion Matrix:\n",
      " <sklearn.metrics._plot.confusion_matrix.ConfusionMatrixDisplay object at 0x7f5d59ec2520> \n",
      "\n",
      "Precision: 0.9475873544093179 \n",
      "Recall: 0.9460132890365448 \n",
      "F1: 0.9467996674979219\n"
     ]
    },
    {
     "data": {
      "image/png": "[encoded data removed]",
      "text/plain": [
       "<Figure size 432x288 with 2 Axes>"
      ]
     },
     "metadata": {
      "needs_background": "light"
     },
     "output_type": "display_data"
    }
   ],
   "source": [
    "print(\"Confusion Matrix:\\n\", plot_confusion_matrix(logreg_ordinal, X_ordinal_test, y_ordinal_test),\n",
    "      \"\\n\\nPrecision:\", precision_score(y_ordinal_test, y_ordinal_pred),\n",
    "      \"\\nRecall:\", recall_score(y_ordinal_test, y_ordinal_pred),      \n",
    "      \"\\nF1:\", f1_score(y_ordinal_test, y_ordinal_pred))"
   ]
  },
  {
   "cell_type": "markdown",
   "metadata": {},
   "source": [
    "### Use one-hot encoding and `LogisticRegression` on a training set to predict the class for the test set."
   ]
  },
  {
   "cell_type": "code",
   "execution_count": 16,
   "metadata": {},
   "outputs": [
    {
     "name": "stdout",
     "output_type": "stream",
     "text": [
      "Test Error: 0.00041017227235438887\n",
      "Accuracy Score: 0.9995898277276456\n"
     ]
    }
   ],
   "source": [
    "# Define the features and class variable as 'X' and 'y' respectively.\n",
    "X_one_hot = df_onehot_encoded.iloc[:, 1:]\n",
    "y_one_hot = df_onehot_encoded['class']\n",
    "\n",
    "# Split the data into train and test sets for the different models.\n",
    "X_one_hot_train, X_one_hot_test, y_one_hot_train, y_one_hot_test = train_test_split(X_one_hot, y_one_hot, random_state=random_state, test_size=.3)\n",
    "\n",
    "# Instantiate, fit and predict the model\n",
    "logreg = LogisticRegression()\n",
    "logreg.fit(X_one_hot_train, y_one_hot_train)\n",
    "y_one_hot_pred = logreg.predict(X_one_hot_test)\n",
    "\n",
    "# Calculate the test error and accuracy score for the model.\n",
    "print(\"Test Error:\", sum(actual != pred for actual, pred in zip(y_one_hot_test, y_one_hot_pred)) / len(y_one_hot_test))\n",
    "print(\"Accuracy Score:\", accuracy_score(y_one_hot_test, y_one_hot_pred))"
   ]
  },
  {
   "cell_type": "code",
   "execution_count": 17,
   "metadata": {},
   "outputs": [
    {
     "name": "stdout",
     "output_type": "stream",
     "text": [
      "Confusion Matrix:\n",
      " <sklearn.metrics._plot.confusion_matrix.ConfusionMatrixDisplay object at 0x7f5d87f730d0> \n",
      "\n",
      "Precision: 1.0 \n",
      "Recall: 0.9991694352159468 \n",
      "F1: 0.9995845450768591\n"
     ]
    },
    {
     "data": {
      "image/png": "[encoded data removed]",
      "text/plain": [
       "<Figure size 432x288 with 2 Axes>"
      ]
     },
     "metadata": {
      "needs_background": "light"
     },
     "output_type": "display_data"
    }
   ],
   "source": [
    "# Confusion matrix and other metrics\n",
    "print(\"Confusion Matrix:\\n\", plot_confusion_matrix(logreg, X_one_hot_test, y_one_hot_test),\n",
    "      \"\\n\\nPrecision:\", precision_score(y_one_hot_test, y_one_hot_pred),\n",
    "      \"\\nRecall:\", recall_score(y_one_hot_test, y_one_hot_pred),      \n",
    "      \"\\nF1:\", f1_score(y_one_hot_test, y_one_hot_pred))"
   ]
  },
  {
   "cell_type": "markdown",
   "metadata": {},
   "source": [
    "#### One-hot encoding produced a better model than label/ordinal encoding when using logistic regression."
   ]
  },
  {
   "cell_type": "markdown",
   "metadata": {},
   "source": [
    "### Calculate feature importance using logistic regression's coefficients and standard deviation."
   ]
  },
  {
   "cell_type": "markdown",
   "metadata": {},
   "source": [
    "The feature's 'influence', or importance, can be estimated by multiplying the magnitude of the coefficient and the standard deviation of the feature in the data."
   ]
  },
  {
   "cell_type": "code",
   "execution_count": 18,
   "metadata": {},
   "outputs": [
    {
     "name": "stdout",
     "output_type": "stream",
     "text": [
      "                       Feature  LogReg Influence\n",
      "24                      odor_f          1.140584\n",
      "52                stalk_root_b          1.121535\n",
      "36                 gill_size_n          0.963834\n",
      "57  stalk_surface_above_ring_k          0.762181\n",
      "37                gill_color_b          0.722140 \t\t                 Feature  LogReg Influence\n",
      "25               odor_l         -0.574084\n",
      "22               odor_a         -0.588285\n",
      "97  spore_print_color_n         -0.649563\n",
      "35          gill_size_b         -0.963896\n",
      "27               odor_n         -1.952851\n"
     ]
    }
   ],
   "source": [
    "df_importance = pd.DataFrame({\"Feature\": X_one_hot.columns, \"LogReg Influence\": np.std(X_one_hot, 0).values*logreg.coef_[0]})\n",
    "df_importance.sort_values('LogReg Influence', ascending=False, inplace=True)\n",
    "\n",
    "# Print the head and tail (pos and neg values) to see top features.\n",
    "print(df_importance.head(), '\\t\\t', df_importance.tail())"
   ]
  },
  {
   "cell_type": "markdown",
   "metadata": {},
   "source": [
    "When using `LogisticRegression`, every feature is important. The coefficient is either positive or negative; none are equal to exactly zero."
   ]
  },
  {
   "cell_type": "code",
   "execution_count": 19,
   "metadata": {},
   "outputs": [
    {
     "data": {
      "text/html": [
       "<div>\n",
       "<style scoped>\n",
       "    .dataframe tbody tr th:only-of-type {\n",
       "        vertical-align: middle;\n",
       "    }\n",
       "\n",
       "    .dataframe tbody tr th {\n",
       "        vertical-align: top;\n",
       "    }\n",
       "\n",
       "    .dataframe thead th {\n",
       "        text-align: right;\n",
       "    }\n",
       "</style>\n",
       "<table border=\"1\" class=\"dataframe\">\n",
       "  <thead>\n",
       "    <tr style=\"text-align: right;\">\n",
       "      <th></th>\n",
       "      <th>Feature</th>\n",
       "      <th>LogReg Influence</th>\n",
       "    </tr>\n",
       "  </thead>\n",
       "  <tbody>\n",
       "  </tbody>\n",
       "</table>\n",
       "</div>"
      ],
      "text/plain": [
       "Empty DataFrame\n",
       "Columns: [Feature, LogReg Influence]\n",
       "Index: []"
      ]
     },
     "execution_count": 19,
     "metadata": {},
     "output_type": "execute_result"
    }
   ],
   "source": [
    "df_importance[df_importance[\"LogReg Influence\"] == 0]"
   ]
  },
  {
   "cell_type": "markdown",
   "metadata": {},
   "source": [
    "### Use GridSearch to determine the best prameters for a Random Forest model."
   ]
  },
  {
   "cell_type": "markdown",
   "metadata": {},
   "source": [
    "Create a `param_grid` for Random Forest parameters to be optimized, instantiate GridSearch and run on **ordinally encoded** dataframe.\n",
    "```p\n",
    "param_grid = {'n_estimators': [50, 100, 150],\n",
    "             'max_depth': [3, 4, 5],\n",
    "             'max_features': list(range(2,22))}\n",
    "\n",
    "gs = GridSearchCV(RandomForestClassifier(), param_grid)\n",
    "gs.fit(X_ordinal, y_ordinal)\n",
    "\n",
    "print(\"Best Ordinal Params:\", gs.best_params_)\n",
    "```\n",
    "Best Ordinal Params: {'max_depth': 4, 'max_features': 3, 'n_estimators': 50}\n"
   ]
  },
  {
   "cell_type": "code",
   "execution_count": 20,
   "metadata": {},
   "outputs": [],
   "source": [
    "# # Uncomment cell to run. **Takes a couple minutes**\n",
    "# param_grid = {'n_estimators': [50, 100, 150],\n",
    "#              'max_depth': [3, 4, 5],\n",
    "#              'max_features': list(range(2,22))}\n",
    "\n",
    "# gs_ordinal = GridSearchCV(RandomForestClassifier(random_state=random_state), param_grid)\n",
    "# gs_ordinal.fit(X_ordinal, y_ordinal)\n",
    "\n",
    "# print(\"Best Ordinal Params:\", gs_ordinal.best_params_)\n",
    "\n",
    "# # Get features and importances from optimized Ordinal encoded RF. (To see which features are driving the model most)\n",
    "# rf_ordinal_importances = pd.DataFrame({\"Feature\": X_ordinal.columns, \"RF Ordinal Grid Importance\": gs_ordinal.best_estimator_.feature_importances_})\n",
    "# print(\"Length:\", len(rf_ordinal_importances))\n",
    "# rf_ordinal_importances.sort_values(\"RF Ordinal Grid Importance\", ascending=False).head()"
   ]
  },
  {
   "cell_type": "markdown",
   "metadata": {},
   "source": [
    "Create a `param_grid` for Random Forest parameters to be optimized, instantiate GridSearch and run on **one-hot encoded** dataframe.\n",
    "```p\n",
    "param_grid = {'n_estimators': [50, 100, 150],\n",
    "             'max_depth': [3, 4, 5],\n",
    "             'max_features': list(range(2,22))}\n",
    "\n",
    "gs_one_hot = GridSearchCV(RandomForestClassifier(random_state=random_state), param_grid)\n",
    "gs_one_hot.fit(X_one_hot, y_one_hot)\n",
    "\n",
    "print(\"Best One-Hot Params:\", gs_one_hot.best_params_)\n",
    "```\n",
    "Best One-Hot Params: {'max_depth': 5, 'max_features': 6, 'n_estimators': 50}"
   ]
  },
  {
   "cell_type": "code",
   "execution_count": 21,
   "metadata": {},
   "outputs": [],
   "source": [
    "# # Uncomment cell to run. **Takes a couple minutes**\n",
    "# param_grid = {'n_estimators': [50, 100, 150],\n",
    "#              'max_depth': [3, 4, 5],\n",
    "#              'max_features': list(range(2,22))}\n",
    "\n",
    "# gs_one_hot = GridSearchCV(RandomForestClassifier(random_state=random_state), param_grid)\n",
    "# gs_one_hot.fit(X_one_hot, y_one_hot)\n",
    "\n",
    "# print(\"Best One-Hot Params\", gs_one_hot.best_params_)\n",
    "\n",
    "# # Get features and importances from optimized One-Hot encoded RF. (To see which features are driving the model most)\n",
    "# rf_one_hot_importances = pd.DataFrame({\"Feature\": X_one_hot.columns, \"RF OneHot Grid Importance\" :gs_one_hot.best_estimator_.feature_importances_})\n",
    "# print(\"Length:\", len(rf_one_hot_importances[rf_one_hot_importances[\"RF OneHot Grid Importance\"] != 0]))\n",
    "# rf_one_hot_importances.sort_values(\"RF OneHot Grid Importance\", ascending=False).head()"
   ]
  },
  {
   "cell_type": "markdown",
   "metadata": {},
   "source": [
    "For this dataset, the random forest model works more efficiently with label/ordinal encoded data. While `n_estimators` is 50 for both types of encoding, `max_features` and `max_depth` are lower when using the label/ordinal encoded data. Furthermore, only 20 features are given importances with label/ordinal encoded data. This is compared to the 106 features with one hot encoding. There are many more features and many have very small importances."
   ]
  },
  {
   "cell_type": "markdown",
   "metadata": {},
   "source": [
    "### Use label/ordinal encoding and `Random Forest` on a training set to predict the class for the test set. "
   ]
  },
  {
   "cell_type": "code",
   "execution_count": 22,
   "metadata": {},
   "outputs": [
    {
     "name": "stdout",
     "output_type": "stream",
     "text": [
      "Test Error: 0.011484823625922888\n",
      "Accuracy Score: 0.9885151763740772\n"
     ]
    }
   ],
   "source": [
    "# X and y ordinal are already defined.\n",
    "# Instantiate, fit and predict using Random Forest.\n",
    "# Use optimized parameters calculated above\n",
    "rfclf_ordinal = RandomForestClassifier(n_estimators=50, max_depth=4, max_features=3, random_state=random_state)\n",
    "rfclf_ordinal.fit(X_ordinal_train, y_ordinal_train)\n",
    "y_ordinal_pred_rf = rfclf_ordinal.predict(X_ordinal_test)\n",
    "\n",
    "# Calculate the test error and accuracy for the model\n",
    "print(\"Test Error:\", sum(actual != pred for actual, pred in zip(y_ordinal_test, y_ordinal_pred_rf)) / len(y_ordinal_test))\n",
    "print(\"Accuracy Score:\", accuracy_score(y_ordinal_test, y_ordinal_pred_rf))"
   ]
  },
  {
   "cell_type": "code",
   "execution_count": 23,
   "metadata": {},
   "outputs": [
    {
     "name": "stdout",
     "output_type": "stream",
     "text": [
      "Confusion Matrix:\n",
      " <sklearn.metrics._plot.confusion_matrix.ConfusionMatrixDisplay object at 0x7f5d55be56d0> \n",
      "\n",
      "Precision: 0.9966216216216216 \n",
      "Recall: 0.9800664451827242 \n",
      "F1: 0.9882747068676716\n"
     ]
    },
    {
     "data": {
      "image/png": "[encoded data removed]",
      "text/plain": [
       "<Figure size 432x288 with 2 Axes>"
      ]
     },
     "metadata": {
      "needs_background": "light"
     },
     "output_type": "display_data"
    }
   ],
   "source": [
    "# Confusion Matrix and metrics\n",
    "print(\"Confusion Matrix:\\n\", plot_confusion_matrix(rfclf_ordinal, X_ordinal_test, y_ordinal_test),\n",
    "      \"\\n\\nPrecision:\", precision_score(y_ordinal_test, y_ordinal_pred_rf),\n",
    "      \"\\nRecall:\", recall_score(y_ordinal_test, y_ordinal_pred_rf),      \n",
    "      \"\\nF1:\", f1_score(y_ordinal_test, y_ordinal_pred_rf))"
   ]
  },
  {
   "cell_type": "markdown",
   "metadata": {},
   "source": [
    "### Use one-hot encoding and  a `RandomForest` on a training set to predict the class for the test set. "
   ]
  },
  {
   "cell_type": "code",
   "execution_count": 24,
   "metadata": {},
   "outputs": [
    {
     "name": "stdout",
     "output_type": "stream",
     "text": [
      "Test Error: 0.009844134536505332\n",
      "Accuracy Score: 0.9901558654634947\n"
     ]
    }
   ],
   "source": [
    "# X and y for one-hot are already defined.\n",
    "# Instantiate, Fit and Predict the Random Forest model\n",
    "# Use optimized parameters calculated above\n",
    "rfclf_one_hot = RandomForestClassifier(n_estimators=50, max_depth=5, max_features=6, random_state=random_state)\n",
    "rfclf_one_hot.fit(X_one_hot_train, y_one_hot_train)\n",
    "y_one_hot_pred_rf = rfclf_one_hot.predict(X_one_hot_test)\n",
    "\n",
    "# Percentage of incorrectly classified mushrooms\n",
    "print(\"Test Error:\", sum(actual != pred for actual, pred in zip(y_one_hot_test, y_one_hot_pred_rf)) / len(y_one_hot_test))\n",
    "print(\"Accuracy Score:\", accuracy_score(y_one_hot_test, y_one_hot_pred_rf))"
   ]
  },
  {
   "cell_type": "code",
   "execution_count": 25,
   "metadata": {},
   "outputs": [
    {
     "name": "stdout",
     "output_type": "stream",
     "text": [
      "Confusion Matrix:\n",
      " <sklearn.metrics._plot.confusion_matrix.ConfusionMatrixDisplay object at 0x7f5d55b16160> \n",
      "\n",
      "Precision: 1.0 \n",
      "Recall: 0.9800664451827242 \n",
      "F1: 0.9899328859060402\n"
     ]
    },
    {
     "data": {
      "image/png": "[encoded data removed]",
      "text/plain": [
       "<Figure size 432x288 with 2 Axes>"
      ]
     },
     "metadata": {
      "needs_background": "light"
     },
     "output_type": "display_data"
    }
   ],
   "source": [
    "# Confusion Matrix and metrics\n",
    "print(\"Confusion Matrix:\\n\", plot_confusion_matrix(rfclf_one_hot, X_one_hot_test, y_one_hot_test),\n",
    "      \"\\n\\nPrecision:\", precision_score(y_one_hot_test, y_one_hot_pred_rf),\n",
    "      \"\\nRecall:\", recall_score(y_one_hot_test, y_one_hot_pred_rf),      \n",
    "      \"\\nF1:\", f1_score(y_one_hot_test, y_one_hot_pred_rf))"
   ]
  },
  {
   "cell_type": "markdown",
   "metadata": {},
   "source": [
    "Label/Ordinal and one-hot encoding performed similarly. "
   ]
  },
  {
   "cell_type": "markdown",
   "metadata": {},
   "source": [
    "### Determine feature importance using Random Forest."
   ]
  },
  {
   "cell_type": "code",
   "execution_count": 26,
   "metadata": {},
   "outputs": [
    {
     "data": {
      "text/html": [
       "<div>\n",
       "<style scoped>\n",
       "    .dataframe tbody tr th:only-of-type {\n",
       "        vertical-align: middle;\n",
       "    }\n",
       "\n",
       "    .dataframe tbody tr th {\n",
       "        vertical-align: top;\n",
       "    }\n",
       "\n",
       "    .dataframe thead th {\n",
       "        text-align: right;\n",
       "    }\n",
       "</style>\n",
       "<table border=\"1\" class=\"dataframe\">\n",
       "  <thead>\n",
       "    <tr style=\"text-align: right;\">\n",
       "      <th></th>\n",
       "      <th>Feature</th>\n",
       "      <th>LogReg Influence</th>\n",
       "      <th>RF Importance</th>\n",
       "    </tr>\n",
       "  </thead>\n",
       "  <tbody>\n",
       "    <tr>\n",
       "      <th>114</th>\n",
       "      <td>gill_size_b</td>\n",
       "      <td>-0.963896</td>\n",
       "      <td>0.107167</td>\n",
       "    </tr>\n",
       "    <tr>\n",
       "      <th>115</th>\n",
       "      <td>odor_n</td>\n",
       "      <td>-1.952851</td>\n",
       "      <td>0.075403</td>\n",
       "    </tr>\n",
       "    <tr>\n",
       "      <th>0</th>\n",
       "      <td>odor_f</td>\n",
       "      <td>1.140584</td>\n",
       "      <td>0.071160</td>\n",
       "    </tr>\n",
       "    <tr>\n",
       "      <th>3</th>\n",
       "      <td>stalk_surface_above_ring_k</td>\n",
       "      <td>0.762181</td>\n",
       "      <td>0.065350</td>\n",
       "    </tr>\n",
       "    <tr>\n",
       "      <th>89</th>\n",
       "      <td>ring_type_p</td>\n",
       "      <td>-0.111881</td>\n",
       "      <td>0.056881</td>\n",
       "    </tr>\n",
       "  </tbody>\n",
       "</table>\n",
       "</div>"
      ],
      "text/plain": [
       "                        Feature  LogReg Influence  RF Importance\n",
       "114                 gill_size_b         -0.963896       0.107167\n",
       "115                      odor_n         -1.952851       0.075403\n",
       "0                        odor_f          1.140584       0.071160\n",
       "3    stalk_surface_above_ring_k          0.762181       0.065350\n",
       "89                  ring_type_p         -0.111881       0.056881"
      ]
     },
     "execution_count": 26,
     "metadata": {},
     "output_type": "execute_result"
    }
   ],
   "source": [
    "# Create and then add Random Forest feature importances to the DataFrame\n",
    "# Using one-hot encoded data\n",
    "rf_importance = pd.DataFrame({\"Feature\": X_one_hot_train.columns, \"RF Importance\": rfclf_one_hot.feature_importances_})\n",
    "\n",
    "df_importance = df_importance.merge(rf_importance, how='left', on='Feature')\n",
    "df_importance = df_importance.sort_values(['RF Importance'], ascending=False)\n",
    "df_importance.head()"
   ]
  },
  {
   "cell_type": "code",
   "execution_count": 27,
   "metadata": {},
   "outputs": [
    {
     "data": {
      "image/png": "[encoded data removed]",
      "text/plain": [
       "<Figure size 432x288 with 1 Axes>"
      ]
     },
     "metadata": {
      "needs_background": "light"
     },
     "output_type": "display_data"
    }
   ],
   "source": [
    "# Look at the top 10 features that the model deems important.\n",
    "\n",
    "plt.bar(df_importance['Feature'].iloc[:10], df_importance['RF Importance'].iloc[:10])\n",
    "plt.xlabel('Feature')\n",
    "plt.xticks(rotation=90)\n",
    "plt.ylabel('Importance')\n",
    "plt.title('Random Forest (One-Hot) Important Features');"
   ]
  },
  {
   "cell_type": "markdown",
   "metadata": {},
   "source": [
    "## How many features are required to get good  accuracy?"
   ]
  },
  {
   "cell_type": "markdown",
   "metadata": {},
   "source": [
    "### Logistic Regression with less features"
   ]
  },
  {
   "cell_type": "code",
   "execution_count": 28,
   "metadata": {},
   "outputs": [
    {
     "data": {
      "image/png": "[encoded data removed]",
      "text/plain": [
       "<Figure size 864x360 with 1 Axes>"
      ]
     },
     "metadata": {
      "needs_background": "light"
     },
     "output_type": "display_data"
    }
   ],
   "source": [
    "# Look at `df_importance`'s Logistic Regression column and sort by absolute value\n",
    "# Take the top 'n' features and run Logisistic Regression. Determine accuracy.\n",
    "\n",
    "accuracy_logreg = []\n",
    "for n in range(2, 32):\n",
    "    top_n_features = df_importance.iloc[df_importance[\"LogReg Influence\"].abs().argsort()].tail(n)['Feature'].values\n",
    "    df_lf_logreg = df_onehot_encoded[top_n_features]\n",
    "    \n",
    "    X_lf = df_lf_logreg\n",
    "    y_lf = df_onehot_encoded['class']\n",
    "    X_lf_train, X_lf_test, y_lf_train, y_lf_test = train_test_split(X_lf, y_lf, random_state=random_state, test_size=.3)\n",
    "    \n",
    "    logreg = LogisticRegression(random_state=random_state)\n",
    "    logreg.fit(X_lf_train, y_lf_train)\n",
    "    y_lf_pred = logreg.predict(X_lf_test)\n",
    "    \n",
    "    accuracy_logreg.append(accuracy_score(y_lf_test, y_lf_pred))\n",
    "    \n",
    "plt.figure(figsize=(12,5))\n",
    "plt.grid()\n",
    "plt.plot(list(range(2, 32)), accuracy_logreg)\n",
    "\n",
    "plt.xlabel('Number of Features')\n",
    "plt.ylabel('Accuracy')\n",
    "plt.title('LogReg: Number of Features v. Accuracy');"
   ]
  },
  {
   "cell_type": "markdown",
   "metadata": {},
   "source": [
    "#### Run `LogisticRegression` on with the best performing features with the least features."
   ]
  },
  {
   "cell_type": "markdown",
   "metadata": {},
   "source": [
    "By visual inspection, the accuracy value is large at 4 features, starts to plateau at 10 features; it gets very high at 20 features."
   ]
  },
  {
   "cell_type": "code",
   "execution_count": 29,
   "metadata": {},
   "outputs": [],
   "source": [
    "# Plug in 4, 10 and 21 to see the accuracy and features at each point.\n",
    "n = 4\n",
    "# n = 10\n",
    "# n = 21\n",
    "top_n_features = df_importance.iloc[df_importance[\"LogReg Influence\"].abs().argsort()].tail(n)['Feature'].values\n",
    "df_lf_logreg = df_onehot_encoded[top_n_features]"
   ]
  },
  {
   "cell_type": "code",
   "execution_count": 30,
   "metadata": {},
   "outputs": [],
   "source": [
    "# Define X and y from one-hot encoded dataframe and split data.\n",
    "X_lf = df_lf_logreg\n",
    "y_lf = df_onehot_encoded['class']\n",
    "\n",
    "X_lf_train, X_lf_test, y_lf_train, y_lf_test = train_test_split(X_lf, y_lf, random_state=random_state, test_size=.3)"
   ]
  },
  {
   "cell_type": "code",
   "execution_count": 31,
   "metadata": {},
   "outputs": [],
   "source": [
    "# Instantiate, Fit and Predict LogReg with less features\n",
    "logreg_lf = LogisticRegression(random_state=random_state)\n",
    "\n",
    "logreg_lf.fit(X_lf_train, y_lf_train)\n",
    "y_lf_test_pred = logreg_lf.predict(X_lf_test)"
   ]
  },
  {
   "cell_type": "code",
   "execution_count": 32,
   "metadata": {},
   "outputs": [
    {
     "name": "stdout",
     "output_type": "stream",
     "text": [
      "Test Error: 0.030762920426579164\n",
      "Accuracy Score: 0.9692370795734209\n"
     ]
    }
   ],
   "source": [
    "# Accuracy calculation: (1 - test error)\n",
    "print(\"Test Error:\", sum(actual != pred for actual, pred in zip(y_lf_test, y_lf_test_pred)) / len(y_lf_test))\n",
    "print(\"Accuracy Score:\", accuracy_score(y_lf_test, y_lf_test_pred))"
   ]
  },
  {
   "cell_type": "code",
   "execution_count": 33,
   "metadata": {},
   "outputs": [
    {
     "data": {
      "text/html": [
       "<div>\n",
       "<style scoped>\n",
       "    .dataframe tbody tr th:only-of-type {\n",
       "        vertical-align: middle;\n",
       "    }\n",
       "\n",
       "    .dataframe tbody tr th {\n",
       "        vertical-align: top;\n",
       "    }\n",
       "\n",
       "    .dataframe thead th {\n",
       "        text-align: right;\n",
       "    }\n",
       "</style>\n",
       "<table border=\"1\" class=\"dataframe\">\n",
       "  <thead>\n",
       "    <tr style=\"text-align: right;\">\n",
       "      <th></th>\n",
       "      <th>Feature</th>\n",
       "      <th>Less Feature LogReg</th>\n",
       "    </tr>\n",
       "  </thead>\n",
       "  <tbody>\n",
       "    <tr>\n",
       "      <th>1</th>\n",
       "      <td>stalk_root_b</td>\n",
       "      <td>-0.148770</td>\n",
       "    </tr>\n",
       "    <tr>\n",
       "      <th>3</th>\n",
       "      <td>odor_n</td>\n",
       "      <td>-1.291052</td>\n",
       "    </tr>\n",
       "    <tr>\n",
       "      <th>0</th>\n",
       "      <td>gill_size_b</td>\n",
       "      <td>-1.991558</td>\n",
       "    </tr>\n",
       "    <tr>\n",
       "      <th>2</th>\n",
       "      <td>odor_f</td>\n",
       "      <td>3.202506</td>\n",
       "    </tr>\n",
       "  </tbody>\n",
       "</table>\n",
       "</div>"
      ],
      "text/plain": [
       "        Feature  Less Feature LogReg\n",
       "1  stalk_root_b            -0.148770\n",
       "3        odor_n            -1.291052\n",
       "0   gill_size_b            -1.991558\n",
       "2        odor_f             3.202506"
      ]
     },
     "execution_count": 33,
     "metadata": {},
     "output_type": "execute_result"
    }
   ],
   "source": [
    "df_lf_importance = pd.DataFrame({\"Feature\": df_lf_logreg.columns, \"Less Feature LogReg\": np.std(X_lf, 0).values*logreg_lf.coef_[0]})\n",
    "df_lf_importance.iloc[df_lf_importance['Less Feature LogReg'].abs().argsort()]"
   ]
  },
  {
   "cell_type": "markdown",
   "metadata": {},
   "source": [
    "### Random Forest with less features."
   ]
  },
  {
   "cell_type": "code",
   "execution_count": 34,
   "metadata": {
    "scrolled": true
   },
   "outputs": [],
   "source": [
    "# Look at `df_importance`'s Random Forest column and sort by value\n",
    "# Take the top 'n' features and run a Random Forest. Determine accuracy.\n",
    "\n",
    "accuracy_rf = []\n",
    "for n in range(2, 22):\n",
    "    top_n_features = df_importance.sort_values('RF Importance', ascending=False).head(n)['Feature'].values\n",
    "    df_lf_rf = df_onehot_encoded[top_n_features]\n",
    "\n",
    "    X_lf_rf = df_lf_rf\n",
    "    y_lf_rf = df_onehot_encoded['class']\n",
    "    X_lf_rf_train, X_lf_rf_test, y_lf_rf_train, y_lf_rf_test = train_test_split(X_lf_rf, y_lf_rf, random_state=random_state, test_size=.3)\n",
    "\n",
    "    lf_rfclf = RandomForestClassifier(random_state=random_state, n_estimators=50, max_depth=5)\n",
    "    lf_rfclf.fit(X_lf_rf_train, y_lf_rf_train)\n",
    "    y_pred_lf_rf = lf_rfclf.predict(X_lf_rf_test)\n",
    "    accuracy_rf.append(accuracy_score(y_lf_rf_test, y_pred_lf_rf))\n"
   ]
  },
  {
   "cell_type": "code",
   "execution_count": 35,
   "metadata": {
    "scrolled": true
   },
   "outputs": [
    {
     "data": {
      "image/png": "[encoded data removed]",
      "text/plain": [
       "<Figure size 864x360 with 1 Axes>"
      ]
     },
     "metadata": {
      "needs_background": "light"
     },
     "output_type": "display_data"
    }
   ],
   "source": [
    "plt.figure(figsize=(12,5))\n",
    "plt.grid()\n",
    "plt.plot(list(range(2, 22)), accuracy_rf)\n",
    "plt.xlabel('Number of Features')\n",
    "plt.ylabel('Accuracy')\n",
    "plt.title('RF: Number of Features v. Accuracy');"
   ]
  },
  {
   "cell_type": "markdown",
   "metadata": {},
   "source": [
    "#### Run `Random Forest` on with the best performing features with the least features."
   ]
  },
  {
   "cell_type": "markdown",
   "metadata": {},
   "source": [
    "By visual inspection, is large at 3 and 4 features; the accuracy value plateaus again after 12 features."
   ]
  },
  {
   "cell_type": "code",
   "execution_count": 36,
   "metadata": {
    "scrolled": true
   },
   "outputs": [],
   "source": [
    "# Create a dataframe with the top features\n",
    "# n = 3\n",
    "n = 4\n",
    "# n = 12\n",
    "top_n_features = df_importance.sort_values('RF Importance', ascending=False).head(n)['Feature'].values\n",
    "df_lf_rf = df_onehot_encoded[top_n_features]"
   ]
  },
  {
   "cell_type": "code",
   "execution_count": 37,
   "metadata": {},
   "outputs": [],
   "source": [
    "# Define X and y from one-hot encoded dataframe and split data.\n",
    "X_lf_rf = df_lf_rf\n",
    "y_lf_rf = df_onehot_encoded['class']\n",
    "\n",
    "X_lf_rf_train, X_lf_rf_test, y_lf_rf_train, y_lf_rf_test = train_test_split(X_lf_rf, y_lf_rf, random_state=random_state, test_size=.3)\n",
    "\n",
    "# Instantiate, fit and predict data with less features using Random Forest\n",
    "lf_rfclf = RandomForestClassifier(n_estimators=50, max_depth=5, random_state=random_state)\n",
    "lf_rfclf.fit(X_lf_rf_train, y_lf_rf_train)\n",
    "y_pred_lf_rf = lf_rfclf.predict(X_lf_rf_test)"
   ]
  },
  {
   "cell_type": "code",
   "execution_count": 38,
   "metadata": {},
   "outputs": [
    {
     "name": "stdout",
     "output_type": "stream",
     "text": [
      "Test Error: 0.023379819524200166\n",
      "Accuracy Score: 0.9766201804757998\n"
     ]
    }
   ],
   "source": [
    "print(\"Test Error:\", sum(actual != pred for actual, pred in zip(y_lf_rf_test, y_pred_lf_rf)) / len(y_lf_rf_test))\n",
    "print(\"Accuracy Score:\", accuracy_score(y_lf_rf_test, y_pred_lf_rf))"
   ]
  },
  {
   "cell_type": "code",
   "execution_count": 39,
   "metadata": {},
   "outputs": [
    {
     "data": {
      "text/html": [
       "<div>\n",
       "<style scoped>\n",
       "    .dataframe tbody tr th:only-of-type {\n",
       "        vertical-align: middle;\n",
       "    }\n",
       "\n",
       "    .dataframe tbody tr th {\n",
       "        vertical-align: top;\n",
       "    }\n",
       "\n",
       "    .dataframe thead th {\n",
       "        text-align: right;\n",
       "    }\n",
       "</style>\n",
       "<table border=\"1\" class=\"dataframe\">\n",
       "  <thead>\n",
       "    <tr style=\"text-align: right;\">\n",
       "      <th></th>\n",
       "      <th>Feature</th>\n",
       "      <th>Less Feature Forest</th>\n",
       "    </tr>\n",
       "  </thead>\n",
       "  <tbody>\n",
       "    <tr>\n",
       "      <th>1</th>\n",
       "      <td>odor_n</td>\n",
       "      <td>0.370977</td>\n",
       "    </tr>\n",
       "    <tr>\n",
       "      <th>0</th>\n",
       "      <td>gill_size_b</td>\n",
       "      <td>0.269338</td>\n",
       "    </tr>\n",
       "    <tr>\n",
       "      <th>2</th>\n",
       "      <td>odor_f</td>\n",
       "      <td>0.211525</td>\n",
       "    </tr>\n",
       "    <tr>\n",
       "      <th>3</th>\n",
       "      <td>stalk_surface_above_ring_k</td>\n",
       "      <td>0.148160</td>\n",
       "    </tr>\n",
       "  </tbody>\n",
       "</table>\n",
       "</div>"
      ],
      "text/plain": [
       "                      Feature  Less Feature Forest\n",
       "1                      odor_n             0.370977\n",
       "0                 gill_size_b             0.269338\n",
       "2                      odor_f             0.211525\n",
       "3  stalk_surface_above_ring_k             0.148160"
      ]
     },
     "execution_count": 39,
     "metadata": {},
     "output_type": "execute_result"
    }
   ],
   "source": [
    "df_lf_rf_importance = pd.DataFrame({\"Feature\": df_lf_rf.columns, \"Less Feature Forest\": lf_rfclf.feature_importances_})\n",
    "df_lf_rf_importance.sort_values('Less Feature Forest', ascending=False, inplace=True)\n",
    "df_lf_rf_importance"
   ]
  },
  {
   "cell_type": "code",
   "execution_count": 40,
   "metadata": {},
   "outputs": [
    {
     "data": {
      "image/png": "[encoded data removed]",
      "text/plain": [
       "<Figure size 432x288 with 1 Axes>"
      ]
     },
     "metadata": {
      "needs_background": "light"
     },
     "output_type": "display_data"
    }
   ],
   "source": [
    "# Visual of the the top 10 most important features from the model.\n",
    "plt.bar(df_lf_rf_importance['Feature'].iloc[:10], df_lf_rf_importance['Less Feature Forest'].iloc[:10])\n",
    "plt.xlabel('Feature')\n",
    "plt.xticks(rotation=90)\n",
    "plt.ylabel('Importance');"
   ]
  },
  {
   "attachments": {},
   "cell_type": "markdown",
   "metadata": {},
   "source": [
    "\n"
   ]
  },
  {
   "cell_type": "code",
   "execution_count": null,
   "metadata": {},
   "outputs": [],
   "source": []
  }
 ],
 "metadata": {
  "kernelspec": {
   "display_name": "Python 3",
   "language": "python",
   "name": "python3"
  },
  "language_info": {
   "codemirror_mode": {
    "name": "ipython",
    "version": 3
   },
   "file_extension": ".py",
   "mimetype": "text/x-python",
   "name": "python",
   "nbconvert_exporter": "python",
   "pygments_lexer": "ipython3",
   "version": "3.8.3"
  }
 },
 "nbformat": 4,
 "nbformat_minor": 4
}
